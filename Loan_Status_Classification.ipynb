{
  "nbformat": 4,
  "nbformat_minor": 0,
  "metadata": {
    "colab": {
      "provenance": []
    },
    "kernelspec": {
      "name": "python3",
      "display_name": "Python 3"
    },
    "language_info": {
      "name": "python"
    }
  },
  "cells": [
    {
      "cell_type": "code",
      "execution_count": null,
      "metadata": {
        "colab": {
          "base_uri": "https://localhost:8080/"
        },
        "id": "xw0fsFtxksKt",
        "outputId": "991e2b4b-473d-47fe-f787-301fd386b688"
      },
      "outputs": [
        {
          "output_type": "stream",
          "name": "stdout",
          "text": [
            "Drive already mounted at /content/drive; to attempt to forcibly remount, call drive.mount(\"/content/drive\", force_remount=True).\n"
          ]
        }
      ],
      "source": [
        "from google.colab import drive\n",
        "drive.mount('/content/drive')"
      ]
    },
    {
      "cell_type": "code",
      "source": [
        "import pandas as pd\n",
        "import numpy as np\n",
        "import seaborn as sns\n",
        "import matplotlib.pyplot as plt\n",
        "from sklearn.impute import SimpleImputer\n",
        "from sklearn.preprocessing import LabelEncoder, StandardScaler\n",
        "from sklearn.feature_selection import RFECV\n",
        "from sklearn.model_selection import train_test_split, GridSearchCV\n",
        "from sklearn.ensemble import RandomForestClassifier\n",
        "from sklearn.neighbors import KNeighborsClassifier\n",
        "from sklearn.tree import DecisionTreeClassifier\n",
        "from sklearn.linear_model import LogisticRegression\n",
        "from sklearn.svm import SVC\n",
        "from sklearn.neural_network import MLPClassifier\n",
        "from sklearn.metrics import accuracy_score, precision_score, recall_score, f1_score, confusion_matrix\n",
        "from google.colab import files\n",
        "from sklearn.decomposition import PCA\n",
        "from imblearn.over_sampling import SMOTE\n",
        "from google.colab import files\n",
        "import warnings"
      ],
      "metadata": {
        "id": "gWFTxD-dl00N"
      },
      "execution_count": null,
      "outputs": []
    },
    {
      "cell_type": "code",
      "source": [
        "df=pd.read_csv('/content/drive/MyDrive/Colab Notebooks/Machine Learning/Classification Project/train.csv')\n",
        "test=pd.read_csv('/content/drive/MyDrive/Colab Notebooks/Machine Learning/Classification Project/test.csv')\n",
        "id = test['Unnamed: 0']\n",
        "target = df['completion_status']\n",
        "df=df.drop(['Unnamed: 0', 'id', 'completion_status'], axis=1)\n",
        "test = test.drop(['Unnamed: 0', 'id'], axis=1)\n"
      ],
      "metadata": {
        "id": "UTV--r9vlwQO"
      },
      "execution_count": null,
      "outputs": []
    },
    {
      "cell_type": "code",
      "source": [
        "df.info()"
      ],
      "metadata": {
        "id": "dTkn3dj0mFG8",
        "colab": {
          "base_uri": "https://localhost:8080/"
        },
        "outputId": "86b20229-afec-4805-b6b9-eb733803d8e0"
      },
      "execution_count": null,
      "outputs": [
        {
          "output_type": "stream",
          "name": "stdout",
          "text": [
            "<class 'pandas.core.frame.DataFrame'>\n",
            "RangeIndex: 1537 entries, 0 to 1536\n",
            "Data columns (total 53 columns):\n",
            " #   Column                                    Non-Null Count  Dtype  \n",
            "---  ------                                    --------------  -----  \n",
            " 0   owner_1_score                             1516 non-null   float64\n",
            " 1   RATE_owner_1                              1510 non-null   object \n",
            " 2   CAP_AMOUNT_owner_1                        1506 non-null   float64\n",
            " 3   PERCENT_OWN_owner_1                       1524 non-null   float64\n",
            " 4   owner_2_score                             185 non-null    float64\n",
            " 5   RATE_owner_2                              185 non-null    object \n",
            " 6   CAP_AMOUNT_owner_2                        174 non-null    float64\n",
            " 7   PERCENT_OWN_owner_2                       224 non-null    float64\n",
            " 8   owner_3_score                             7 non-null      float64\n",
            " 9   RATE_owner_3                              7 non-null      object \n",
            " 10  CAP_AMOUNT_owner_3                        7 non-null      float64\n",
            " 11  PERCENT_OWN_owner_3                       33 non-null     float64\n",
            " 12  years_in_business                         1525 non-null   float64\n",
            " 13  RATE_ID_FOR_years_in_business             1525 non-null   object \n",
            " 14  fsr                                       1120 non-null   float64\n",
            " 15  RATE_ID_FOR_fsr                           15 non-null     object \n",
            " 16  location                                  1527 non-null   object \n",
            " 17  RATE_ID_FOR_location                      1473 non-null   object \n",
            " 18  funded_last_30                            1537 non-null   object \n",
            " 19  RATE_ID_FOR_funded_last_30                5 non-null      object \n",
            " 20  judgement_lien_percent                    1537 non-null   float64\n",
            " 21  RATE_ID_FOR_judgement_lien_percent        1537 non-null   object \n",
            " 22  INPUT_VALUE_ID_FOR_judgement_lien_amount  1537 non-null   float64\n",
            " 23  RATE_ID_FOR_judgement_lien_amount         1537 non-null   object \n",
            " 24  INPUT_VALUE_ID_FOR_judgement_lien_time    0 non-null      float64\n",
            " 25  RATE_ID_FOR_judgement_lien_time           0 non-null      float64\n",
            " 26  INPUT_VALUE_ID_FOR_num_negative_days      1537 non-null   float64\n",
            " 27  RATE_ID_FOR_num_negative_days             1535 non-null   object \n",
            " 28  INPUT_VALUE_ID_FOR_num_deposits           1537 non-null   float64\n",
            " 29  RATE_ID_FOR_num_deposits                  1537 non-null   object \n",
            " 30  INPUT_VALUE_ID_FOR_monthly_gross          1537 non-null   float64\n",
            " 31  RATE_ID_FOR_monthly_gross                 1537 non-null   object \n",
            " 32  INPUT_VALUE_ID_FOR_average_ledger         1537 non-null   float64\n",
            " 33  RATE_ID_FOR_average_ledger                1537 non-null   object \n",
            " 34  INPUT_VALUE_ID_FOR_fc_margin              1537 non-null   float64\n",
            " 35  RATE_ID_FOR_fc_margin                     1537 non-null   object \n",
            " 36  INPUT_VALUE_ID_FOR_tax_lien_amount        1537 non-null   float64\n",
            " 37  RATE_ID_FOR_tax_lien_amount               1537 non-null   object \n",
            " 38  INPUT_VALUE_ID_FOR_tax_lien_percent       1537 non-null   float64\n",
            " 39  RATE_ID_FOR_tax_lien_percent              1537 non-null   object \n",
            " 40  INPUT_VALUE_ID_FOR_tax_lien_count         1528 non-null   float64\n",
            " 41  RATE_ID_FOR_tax_lien_count                1528 non-null   object \n",
            " 42  INPUT_VALUE_ID_FOR_current_position       1525 non-null   float64\n",
            " 43  RATE_ID_FOR_current_position              1525 non-null   object \n",
            " 44  INPUT_VALUE_ID_FOR_avg_net_deposits       1531 non-null   float64\n",
            " 45  RATE_ID_FOR_avg_net_deposits              0 non-null      float64\n",
            " 46  INPUT_VALUE_ID_FOR_industry_type          1513 non-null   object \n",
            " 47  RATE_ID_FOR_industry_type                 0 non-null      float64\n",
            " 48  INPUT_VALUE_owner_4                       1510 non-null   float64\n",
            " 49  RATE_owner_4                              1472 non-null   object \n",
            " 50  CAP_AMOUNT_owner_4                        1457 non-null   float64\n",
            " 51  PERCENT_OWN_owner_4                       1491 non-null   float64\n",
            " 52  deal_application_thread_id                1537 non-null   int64  \n",
            "dtypes: float64(30), int64(1), object(22)\n",
            "memory usage: 636.5+ KB\n"
          ]
        }
      ]
    },
    {
      "cell_type": "code",
      "source": [
        "#Checking if there's an imbalamce in the target\n",
        "target_counts = target.value_counts()\n",
        "\n",
        "# Plot the pie chart\n",
        "plt.figure(figsize=(8, 8))\n",
        "plt.pie(target_counts, labels=target_counts.index, autopct='%1.1f%%', startangle=140)\n",
        "plt.title('Distribution of Target Variable')\n",
        "plt.show()"
      ],
      "metadata": {
        "colab": {
          "base_uri": "https://localhost:8080/",
          "height": 675
        },
        "id": "I76PMRFnelet",
        "outputId": "293df9f5-482e-4a3a-d1af-1b46d01ac7a2"
      },
      "execution_count": null,
      "outputs": [
        {
          "output_type": "display_data",
          "data": {
            "text/plain": [
              "<Figure size 800x800 with 1 Axes>"
            ],
            "image/png": "[encoded data removed]"
          },
          "metadata": {}
        }
      ]
    },
    {
      "cell_type": "code",
      "source": [
        "numerical = df.select_dtypes(include=(float,int))\n",
        "categorical = df.select_dtypes(include=(object))\n",
        "\n",
        "test_numerical = test.select_dtypes(include=(float,int))\n",
        "test_categorical = test.select_dtypes(include=(object))\n",
        "\n",
        "for column in categorical.columns:\n",
        "  print(categorical[column].value_counts())"
      ],
      "metadata": {
        "id": "Tkt2NEPpnsJS",
        "colab": {
          "base_uri": "https://localhost:8080/"
        },
        "outputId": "a5231010-d18a-4da6-e469-ecd868f75b17"
      },
      "execution_count": null,
      "outputs": [
        {
          "output_type": "stream",
          "name": "stdout",
          "text": [
            "RATE_owner_1\n",
            "A    910\n",
            "B    324\n",
            "C    210\n",
            "D     62\n",
            "R      4\n",
            "Name: count, dtype: int64\n",
            "RATE_owner_2\n",
            "A    121\n",
            "C     26\n",
            "D     14\n",
            "B     13\n",
            "R     11\n",
            "Name: count, dtype: int64\n",
            "RATE_owner_3\n",
            "A    4\n",
            "D    3\n",
            "Name: count, dtype: int64\n",
            "RATE_ID_FOR_years_in_business\n",
            "A    1314\n",
            "B     160\n",
            "C      36\n",
            "D      15\n",
            "Name: count, dtype: int64\n",
            "RATE_ID_FOR_fsr\n",
            "D    9\n",
            "A    6\n",
            "Name: count, dtype: int64\n",
            "location\n",
            "Verified    956\n",
            "Home        526\n",
            "Unknown      35\n",
            "BRICK        10\n",
            "Name: count, dtype: int64\n",
            "RATE_ID_FOR_location\n",
            "A    1473\n",
            "Name: count, dtype: int64\n",
            "funded_last_30\n",
            "N    1532\n",
            "Y       5\n",
            "Name: count, dtype: int64\n",
            "RATE_ID_FOR_funded_last_30\n",
            "D    5\n",
            "Name: count, dtype: int64\n",
            "RATE_ID_FOR_judgement_lien_percent\n",
            "A    1518\n",
            "D       9\n",
            "B       6\n",
            "C       4\n",
            "Name: count, dtype: int64\n",
            "RATE_ID_FOR_judgement_lien_amount\n",
            "A    1536\n",
            "D       1\n",
            "Name: count, dtype: int64\n",
            "RATE_ID_FOR_num_negative_days\n",
            "A    1296\n",
            "C     115\n",
            "B      84\n",
            "D      40\n",
            "Name: count, dtype: int64\n",
            "RATE_ID_FOR_num_deposits\n",
            "A    818\n",
            "R    607\n",
            "C     94\n",
            "B     18\n",
            "Name: count, dtype: int64\n",
            "RATE_ID_FOR_monthly_gross\n",
            "A    1120\n",
            "D     417\n",
            "Name: count, dtype: int64\n",
            "RATE_ID_FOR_average_ledger\n",
            "A    1087\n",
            "D     450\n",
            "Name: count, dtype: int64\n",
            "RATE_ID_FOR_fc_margin\n",
            "A    1102\n",
            "D     435\n",
            "Name: count, dtype: int64\n",
            "RATE_ID_FOR_tax_lien_amount\n",
            "A    1536\n",
            "D       1\n",
            "Name: count, dtype: int64\n",
            "RATE_ID_FOR_tax_lien_percent\n",
            "A    1536\n",
            "D       1\n",
            "Name: count, dtype: int64\n",
            "RATE_ID_FOR_tax_lien_count\n",
            "A    1523\n",
            "B       5\n",
            "Name: count, dtype: int64\n",
            "RATE_ID_FOR_current_position\n",
            "A    1266\n",
            "C     240\n",
            "D      19\n",
            "Name: count, dtype: int64\n",
            "INPUT_VALUE_ID_FOR_industry_type\n",
            "preferred    1330\n",
            "capped        119\n",
            "standard       62\n",
            "Preferred       2\n",
            "Name: count, dtype: int64\n",
            "RATE_owner_4\n",
            "A    881\n",
            "B    296\n",
            "C    225\n",
            "D     55\n",
            "R     15\n",
            "Name: count, dtype: int64\n"
          ]
        }
      ]
    },
    {
      "cell_type": "code",
      "source": [
        "df.shape"
      ],
      "metadata": {
        "id": "277FYv7Cm-Aj",
        "colab": {
          "base_uri": "https://localhost:8080/"
        },
        "outputId": "28edc055-9b0f-4555-c0db-0935fa21f4a0"
      },
      "execution_count": null,
      "outputs": [
        {
          "output_type": "execute_result",
          "data": {
            "text/plain": [
              "(1537, 53)"
            ]
          },
          "metadata": {},
          "execution_count": 23
        }
      ]
    },
    {
      "cell_type": "code",
      "source": [
        "df.describe()"
      ],
      "metadata": {
        "id": "anRwajAsmfxD",
        "colab": {
          "base_uri": "https://localhost:8080/",
          "height": 350
        },
        "outputId": "159b4f07-84fb-490e-d5b1-418d87c08153"
      },
      "execution_count": null,
      "outputs": [
        {
          "output_type": "execute_result",
          "data": {
            "text/plain": [
              "       owner_1_score  CAP_AMOUNT_owner_1  PERCENT_OWN_owner_1  owner_2_score  \\\n",
              "count    1516.000000         1506.000000          1524.000000     185.000000   \n",
              "mean      639.666227       117031.872510            92.826509    1118.902703   \n",
              "std       436.564984        47147.062423            39.239430    1988.694684   \n",
              "min         0.000000            0.000000             0.000000     432.000000   \n",
              "25%       573.000000       100000.000000           100.000000     582.000000   \n",
              "50%       620.000000       150000.000000           100.000000     647.000000   \n",
              "75%       664.000000       150000.000000           100.000000     680.000000   \n",
              "max      9002.000000       150000.000000          1000.000000    9002.000000   \n",
              "\n",
              "       CAP_AMOUNT_owner_2  PERCENT_OWN_owner_2  owner_3_score  \\\n",
              "count          174.000000           224.000000       7.000000   \n",
              "mean        117011.494253            35.324107     623.857143   \n",
              "std          53867.530571            18.474337     224.808384   \n",
              "min              0.000000             0.000000     376.000000   \n",
              "25%         100000.000000            20.000000     387.500000   \n",
              "50%         150000.000000            49.000000     804.000000   \n",
              "75%         150000.000000            50.000000     804.000000   \n",
              "max         150000.000000            64.000000     804.000000   \n",
              "\n",
              "       CAP_AMOUNT_owner_3  PERCENT_OWN_owner_3  years_in_business  ...  \\\n",
              "count            7.000000            33.000000        1525.000000  ...   \n",
              "mean         85714.285714             7.572727          19.836656  ...   \n",
              "std          80178.372574            16.709134         138.078268  ...   \n",
              "min              0.000000             0.000000           0.030000  ...   \n",
              "25%              0.000000             0.000000           3.080000  ...   \n",
              "50%         150000.000000             0.000000           5.850000  ...   \n",
              "75%         150000.000000             0.000000          11.390000  ...   \n",
              "max         150000.000000            50.000000        1805.400000  ...   \n",
              "\n",
              "       INPUT_VALUE_ID_FOR_tax_lien_percent  INPUT_VALUE_ID_FOR_tax_lien_count  \\\n",
              "count                          1537.000000                        1528.000000   \n",
              "mean                              0.047681                           0.014398   \n",
              "std                               1.388539                           0.176711   \n",
              "min                               0.000000                           0.000000   \n",
              "25%                               0.000000                           0.000000   \n",
              "50%                               0.000000                           0.000000   \n",
              "75%                               0.000000                           0.000000   \n",
              "max                              53.968000                           3.000000   \n",
              "\n",
              "       INPUT_VALUE_ID_FOR_current_position  \\\n",
              "count                          1525.000000   \n",
              "mean                              0.714754   \n",
              "std                               0.779881   \n",
              "min                               0.000000   \n",
              "25%                               0.000000   \n",
              "50%                               1.000000   \n",
              "75%                               1.000000   \n",
              "max                               4.000000   \n",
              "\n",
              "       INPUT_VALUE_ID_FOR_avg_net_deposits  RATE_ID_FOR_avg_net_deposits  \\\n",
              "count                         1.531000e+03                           0.0   \n",
              "mean                          9.107680e+04                           NaN   \n",
              "std                           1.732702e+05                           NaN   \n",
              "min                           0.000000e+00                           NaN   \n",
              "25%                           0.000000e+00                           NaN   \n",
              "50%                           4.735876e+04                           NaN   \n",
              "75%                           1.051457e+05                           NaN   \n",
              "max                           2.291481e+06                           NaN   \n",
              "\n",
              "       RATE_ID_FOR_industry_type  INPUT_VALUE_owner_4  CAP_AMOUNT_owner_4  \\\n",
              "count                        0.0          1510.000000         1457.000000   \n",
              "mean                         NaN           656.448344       116420.727522   \n",
              "std                          NaN           570.443661        47681.543573   \n",
              "min                          NaN             0.000000            0.000000   \n",
              "25%                          NaN           568.000000       100000.000000   \n",
              "50%                          NaN           621.000000       150000.000000   \n",
              "75%                          NaN           665.000000       150000.000000   \n",
              "max                          NaN          9002.000000       150000.000000   \n",
              "\n",
              "       PERCENT_OWN_owner_4  deal_application_thread_id  \n",
              "count          1491.000000                 1537.000000  \n",
              "mean             97.400469                 3943.005205  \n",
              "std              37.275931                 2172.407533  \n",
              "min               0.000000                   88.000000  \n",
              "25%             100.000000                 2234.000000  \n",
              "50%             100.000000                 4171.000000  \n",
              "75%             100.000000                 5428.000000  \n",
              "max            1000.000000                 9062.000000  \n",
              "\n",
              "[8 rows x 31 columns]"
            ],
            "text/html": [
              "\n",
              "  <div id=\"df-6a1b018e-dcf1-428f-9e3e-53f56185b7d4\" class=\"colab-df-container\">\n",
              "    <div>\n",
              "<style scoped>\n",
              "    .dataframe tbody tr th:only-of-type {\n",
              "        vertical-align: middle;\n",
              "    }\n",
              "\n",
              "    .dataframe tbody tr th {\n",
              "        vertical-align: top;\n",
              "    }\n",
              "\n",
              "    .dataframe thead th {\n",
              "        text-align: right;\n",
              "    }\n",
              "</style>\n",
              "<table border=\"1\" class=\"dataframe\">\n",
              "  <thead>\n",
              "    <tr style=\"text-align: right;\">\n",
              "      <th></th>\n",
              "      <th>owner_1_score</th>\n",
              "      <th>CAP_AMOUNT_owner_1</th>\n",
              "      <th>PERCENT_OWN_owner_1</th>\n",
              "      <th>owner_2_score</th>\n",
              "      <th>CAP_AMOUNT_owner_2</th>\n",
              "      <th>PERCENT_OWN_owner_2</th>\n",
              "      <th>owner_3_score</th>\n",
              "      <th>CAP_AMOUNT_owner_3</th>\n",
              "      <th>PERCENT_OWN_owner_3</th>\n",
              "      <th>years_in_business</th>\n",
              "      <th>...</th>\n",
              "      <th>INPUT_VALUE_ID_FOR_tax_lien_percent</th>\n",
              "      <th>INPUT_VALUE_ID_FOR_tax_lien_count</th>\n",
              "      <th>INPUT_VALUE_ID_FOR_current_position</th>\n",
              "      <th>INPUT_VALUE_ID_FOR_avg_net_deposits</th>\n",
              "      <th>RATE_ID_FOR_avg_net_deposits</th>\n",
              "      <th>RATE_ID_FOR_industry_type</th>\n",
              "      <th>INPUT_VALUE_owner_4</th>\n",
              "      <th>CAP_AMOUNT_owner_4</th>\n",
              "      <th>PERCENT_OWN_owner_4</th>\n",
              "      <th>deal_application_thread_id</th>\n",
              "    </tr>\n",
              "  </thead>\n",
              "  <tbody>\n",
              "    <tr>\n",
              "      <th>count</th>\n",
              "      <td>1516.000000</td>\n",
              "      <td>1506.000000</td>\n",
              "      <td>1524.000000</td>\n",
              "      <td>185.000000</td>\n",
              "      <td>174.000000</td>\n",
              "      <td>224.000000</td>\n",
              "      <td>7.000000</td>\n",
              "      <td>7.000000</td>\n",
              "      <td>33.000000</td>\n",
              "      <td>1525.000000</td>\n",
              "      <td>...</td>\n",
              "      <td>1537.000000</td>\n",
              "      <td>1528.000000</td>\n",
              "      <td>1525.000000</td>\n",
              "      <td>1.531000e+03</td>\n",
              "      <td>0.0</td>\n",
              "      <td>0.0</td>\n",
              "      <td>1510.000000</td>\n",
              "      <td>1457.000000</td>\n",
              "      <td>1491.000000</td>\n",
              "      <td>1537.000000</td>\n",
              "    </tr>\n",
              "    <tr>\n",
              "      <th>mean</th>\n",
              "      <td>639.666227</td>\n",
              "      <td>117031.872510</td>\n",
              "      <td>92.826509</td>\n",
              "      <td>1118.902703</td>\n",
              "      <td>117011.494253</td>\n",
              "      <td>35.324107</td>\n",
              "      <td>623.857143</td>\n",
              "      <td>85714.285714</td>\n",
              "      <td>7.572727</td>\n",
              "      <td>19.836656</td>\n",
              "      <td>...</td>\n",
              "      <td>0.047681</td>\n",
              "      <td>0.014398</td>\n",
              "      <td>0.714754</td>\n",
              "      <td>9.107680e+04</td>\n",
              "      <td>NaN</td>\n",
              "      <td>NaN</td>\n",
              "      <td>656.448344</td>\n",
              "      <td>116420.727522</td>\n",
              "      <td>97.400469</td>\n",
              "      <td>3943.005205</td>\n",
              "    </tr>\n",
              "    <tr>\n",
              "      <th>std</th>\n",
              "      <td>436.564984</td>\n",
              "      <td>47147.062423</td>\n",
              "      <td>39.239430</td>\n",
              "      <td>1988.694684</td>\n",
              "      <td>53867.530571</td>\n",
              "      <td>18.474337</td>\n",
              "      <td>224.808384</td>\n",
              "      <td>80178.372574</td>\n",
              "      <td>16.709134</td>\n",
              "      <td>138.078268</td>\n",
              "      <td>...</td>\n",
              "      <td>1.388539</td>\n",
              "      <td>0.176711</td>\n",
              "      <td>0.779881</td>\n",
              "      <td>1.732702e+05</td>\n",
              "      <td>NaN</td>\n",
              "      <td>NaN</td>\n",
              "      <td>570.443661</td>\n",
              "      <td>47681.543573</td>\n",
              "      <td>37.275931</td>\n",
              "      <td>2172.407533</td>\n",
              "    </tr>\n",
              "    <tr>\n",
              "      <th>min</th>\n",
              "      <td>0.000000</td>\n",
              "      <td>0.000000</td>\n",
              "      <td>0.000000</td>\n",
              "      <td>432.000000</td>\n",
              "      <td>0.000000</td>\n",
              "      <td>0.000000</td>\n",
              "      <td>376.000000</td>\n",
              "      <td>0.000000</td>\n",
              "      <td>0.000000</td>\n",
              "      <td>0.030000</td>\n",
              "      <td>...</td>\n",
              "      <td>0.000000</td>\n",
              "      <td>0.000000</td>\n",
              "      <td>0.000000</td>\n",
              "      <td>0.000000e+00</td>\n",
              "      <td>NaN</td>\n",
              "      <td>NaN</td>\n",
              "      <td>0.000000</td>\n",
              "      <td>0.000000</td>\n",
              "      <td>0.000000</td>\n",
              "      <td>88.000000</td>\n",
              "    </tr>\n",
              "    <tr>\n",
              "      <th>25%</th>\n",
              "      <td>573.000000</td>\n",
              "      <td>100000.000000</td>\n",
              "      <td>100.000000</td>\n",
              "      <td>582.000000</td>\n",
              "      <td>100000.000000</td>\n",
              "      <td>20.000000</td>\n",
              "      <td>387.500000</td>\n",
              "      <td>0.000000</td>\n",
              "      <td>0.000000</td>\n",
              "      <td>3.080000</td>\n",
              "      <td>...</td>\n",
              "      <td>0.000000</td>\n",
              "      <td>0.000000</td>\n",
              "      <td>0.000000</td>\n",
              "      <td>0.000000e+00</td>\n",
              "      <td>NaN</td>\n",
              "      <td>NaN</td>\n",
              "      <td>568.000000</td>\n",
              "      <td>100000.000000</td>\n",
              "      <td>100.000000</td>\n",
              "      <td>2234.000000</td>\n",
              "    </tr>\n",
              "    <tr>\n",
              "      <th>50%</th>\n",
              "      <td>620.000000</td>\n",
              "      <td>150000.000000</td>\n",
              "      <td>100.000000</td>\n",
              "      <td>647.000000</td>\n",
              "      <td>150000.000000</td>\n",
              "      <td>49.000000</td>\n",
              "      <td>804.000000</td>\n",
              "      <td>150000.000000</td>\n",
              "      <td>0.000000</td>\n",
              "      <td>5.850000</td>\n",
              "      <td>...</td>\n",
              "      <td>0.000000</td>\n",
              "      <td>0.000000</td>\n",
              "      <td>1.000000</td>\n",
              "      <td>4.735876e+04</td>\n",
              "      <td>NaN</td>\n",
              "      <td>NaN</td>\n",
              "      <td>621.000000</td>\n",
              "      <td>150000.000000</td>\n",
              "      <td>100.000000</td>\n",
              "      <td>4171.000000</td>\n",
              "    </tr>\n",
              "    <tr>\n",
              "      <th>75%</th>\n",
              "      <td>664.000000</td>\n",
              "      <td>150000.000000</td>\n",
              "      <td>100.000000</td>\n",
              "      <td>680.000000</td>\n",
              "      <td>150000.000000</td>\n",
              "      <td>50.000000</td>\n",
              "      <td>804.000000</td>\n",
              "      <td>150000.000000</td>\n",
              "      <td>0.000000</td>\n",
              "      <td>11.390000</td>\n",
              "      <td>...</td>\n",
              "      <td>0.000000</td>\n",
              "      <td>0.000000</td>\n",
              "      <td>1.000000</td>\n",
              "      <td>1.051457e+05</td>\n",
              "      <td>NaN</td>\n",
              "      <td>NaN</td>\n",
              "      <td>665.000000</td>\n",
              "      <td>150000.000000</td>\n",
              "      <td>100.000000</td>\n",
              "      <td>5428.000000</td>\n",
              "    </tr>\n",
              "    <tr>\n",
              "      <th>max</th>\n",
              "      <td>9002.000000</td>\n",
              "      <td>150000.000000</td>\n",
              "      <td>1000.000000</td>\n",
              "      <td>9002.000000</td>\n",
              "      <td>150000.000000</td>\n",
              "      <td>64.000000</td>\n",
              "      <td>804.000000</td>\n",
              "      <td>150000.000000</td>\n",
              "      <td>50.000000</td>\n",
              "      <td>1805.400000</td>\n",
              "      <td>...</td>\n",
              "      <td>53.968000</td>\n",
              "      <td>3.000000</td>\n",
              "      <td>4.000000</td>\n",
              "      <td>2.291481e+06</td>\n",
              "      <td>NaN</td>\n",
              "      <td>NaN</td>\n",
              "      <td>9002.000000</td>\n",
              "      <td>150000.000000</td>\n",
              "      <td>1000.000000</td>\n",
              "      <td>9062.000000</td>\n",
              "    </tr>\n",
              "  </tbody>\n",
              "</table>\n",
              "<p>8 rows × 31 columns</p>\n",
              "</div>\n",
              "    <div class=\"colab-df-buttons\">\n",
              "\n",
              "  <div class=\"colab-df-container\">\n",
              "    <button class=\"colab-df-convert\" onclick=\"convertToInteractive('df-6a1b018e-dcf1-428f-9e3e-53f56185b7d4')\"\n",
              "            title=\"Convert this dataframe to an interactive table.\"\n",
              "            style=\"display:none;\">\n",
              "\n",
              "  <svg xmlns=\"http://www.w3.org/2000/svg\" height=\"24px\" viewBox=\"0 -960 960 960\">\n",
              "    <path d=\"M120-120v-720h720v720H120Zm60-500h600v-160H180v160Zm220 220h160v-160H400v160Zm0 220h160v-160H400v160ZM180-400h160v-160H180v160Zm440 0h160v-160H620v160ZM180-180h160v-160H180v160Zm440 0h160v-160H620v160Z\"/>\n",
              "  </svg>\n",
              "    </button>\n",
              "\n",
              "  <style>\n",
              "    .colab-df-container {\n",
              "      display:flex;\n",
              "      gap: 12px;\n",
              "    }\n",
              "\n",
              "    .colab-df-convert {\n",
              "      background-color: #E8F0FE;\n",
              "      border: none;\n",
              "      border-radius: 50%;\n",
              "      cursor: pointer;\n",
              "      display: none;\n",
              "      fill: #1967D2;\n",
              "      height: 32px;\n",
              "      padding: 0 0 0 0;\n",
              "      width: 32px;\n",
              "    }\n",
              "\n",
              "    .colab-df-convert:hover {\n",
              "      background-color: #E2EBFA;\n",
              "      box-shadow: 0px 1px 2px rgba(60, 64, 67, 0.3), 0px 1px 3px 1px rgba(60, 64, 67, 0.15);\n",
              "      fill: #174EA6;\n",
              "    }\n",
              "\n",
              "    .colab-df-buttons div {\n",
              "      margin-bottom: 4px;\n",
              "    }\n",
              "\n",
              "    [theme=dark] .colab-df-convert {\n",
              "      background-color: #3B4455;\n",
              "      fill: #D2E3FC;\n",
              "    }\n",
              "\n",
              "    [theme=dark] .colab-df-convert:hover {\n",
              "      background-color: #434B5C;\n",
              "      box-shadow: 0px 1px 3px 1px rgba(0, 0, 0, 0.15);\n",
              "      filter: drop-shadow(0px 1px 2px rgba(0, 0, 0, 0.3));\n",
              "      fill: #FFFFFF;\n",
              "    }\n",
              "  </style>\n",
              "\n",
              "    <script>\n",
              "      const buttonEl =\n",
              "        document.querySelector('#df-6a1b018e-dcf1-428f-9e3e-53f56185b7d4 button.colab-df-convert');\n",
              "      buttonEl.style.display =\n",
              "        google.colab.kernel.accessAllowed ? 'block' : 'none';\n",
              "\n",
              "      async function convertToInteractive(key) {\n",
              "        const element = document.querySelector('#df-6a1b018e-dcf1-428f-9e3e-53f56185b7d4');\n",
              "        const dataTable =\n",
              "          await google.colab.kernel.invokeFunction('convertToInteractive',\n",
              "                                                    [key], {});\n",
              "        if (!dataTable) return;\n",
              "\n",
              "        const docLinkHtml = 'Like what you see? Visit the ' +\n",
              "          '<a target=\"_blank\" href=https://colab.research.google.com/notebooks/data_table.ipynb>data table notebook</a>'\n",
              "          + ' to learn more about interactive tables.';\n",
              "        element.innerHTML = '';\n",
              "        dataTable['output_type'] = 'display_data';\n",
              "        await google.colab.output.renderOutput(dataTable, element);\n",
              "        const docLink = document.createElement('div');\n",
              "        docLink.innerHTML = docLinkHtml;\n",
              "        element.appendChild(docLink);\n",
              "      }\n",
              "    </script>\n",
              "  </div>\n",
              "\n",
              "\n",
              "<div id=\"df-b27a1a7a-dd76-4f05-a90d-59d90aadf226\">\n",
              "  <button class=\"colab-df-quickchart\" onclick=\"quickchart('df-b27a1a7a-dd76-4f05-a90d-59d90aadf226')\"\n",
              "            title=\"Suggest charts\"\n",
              "            style=\"display:none;\">\n",
              "\n",
              "<svg xmlns=\"http://www.w3.org/2000/svg\" height=\"24px\"viewBox=\"0 0 24 24\"\n",
              "     width=\"24px\">\n",
              "    <g>\n",
              "        <path d=\"M19 3H5c-1.1 0-2 .9-2 2v14c0 1.1.9 2 2 2h14c1.1 0 2-.9 2-2V5c0-1.1-.9-2-2-2zM9 17H7v-7h2v7zm4 0h-2V7h2v10zm4 0h-2v-4h2v4z\"/>\n",
              "    </g>\n",
              "</svg>\n",
              "  </button>\n",
              "\n",
              "<style>\n",
              "  .colab-df-quickchart {\n",
              "      --bg-color: #E8F0FE;\n",
              "      --fill-color: #1967D2;\n",
              "      --hover-bg-color: #E2EBFA;\n",
              "      --hover-fill-color: #174EA6;\n",
              "      --disabled-fill-color: #AAA;\n",
              "      --disabled-bg-color: #DDD;\n",
              "  }\n",
              "\n",
              "  [theme=dark] .colab-df-quickchart {\n",
              "      --bg-color: #3B4455;\n",
              "      --fill-color: #D2E3FC;\n",
              "      --hover-bg-color: #434B5C;\n",
              "      --hover-fill-color: #FFFFFF;\n",
              "      --disabled-bg-color: #3B4455;\n",
              "      --disabled-fill-color: #666;\n",
              "  }\n",
              "\n",
              "  .colab-df-quickchart {\n",
              "    background-color: var(--bg-color);\n",
              "    border: none;\n",
              "    border-radius: 50%;\n",
              "    cursor: pointer;\n",
              "    display: none;\n",
              "    fill: var(--fill-color);\n",
              "    height: 32px;\n",
              "    padding: 0;\n",
              "    width: 32px;\n",
              "  }\n",
              "\n",
              "  .colab-df-quickchart:hover {\n",
              "    background-color: var(--hover-bg-color);\n",
              "    box-shadow: 0 1px 2px rgba(60, 64, 67, 0.3), 0 1px 3px 1px rgba(60, 64, 67, 0.15);\n",
              "    fill: var(--button-hover-fill-color);\n",
              "  }\n",
              "\n",
              "  .colab-df-quickchart-complete:disabled,\n",
              "  .colab-df-quickchart-complete:disabled:hover {\n",
              "    background-color: var(--disabled-bg-color);\n",
              "    fill: var(--disabled-fill-color);\n",
              "    box-shadow: none;\n",
              "  }\n",
              "\n",
              "  .colab-df-spinner {\n",
              "    border: 2px solid var(--fill-color);\n",
              "    border-color: transparent;\n",
              "    border-bottom-color: var(--fill-color);\n",
              "    animation:\n",
              "      spin 1s steps(1) infinite;\n",
              "  }\n",
              "\n",
              "  @keyframes spin {\n",
              "    0% {\n",
              "      border-color: transparent;\n",
              "      border-bottom-color: var(--fill-color);\n",
              "      border-left-color: var(--fill-color);\n",
              "    }\n",
              "    20% {\n",
              "      border-color: transparent;\n",
              "      border-left-color: var(--fill-color);\n",
              "      border-top-color: var(--fill-color);\n",
              "    }\n",
              "    30% {\n",
              "      border-color: transparent;\n",
              "      border-left-color: var(--fill-color);\n",
              "      border-top-color: var(--fill-color);\n",
              "      border-right-color: var(--fill-color);\n",
              "    }\n",
              "    40% {\n",
              "      border-color: transparent;\n",
              "      border-right-color: var(--fill-color);\n",
              "      border-top-color: var(--fill-color);\n",
              "    }\n",
              "    60% {\n",
              "      border-color: transparent;\n",
              "      border-right-color: var(--fill-color);\n",
              "    }\n",
              "    80% {\n",
              "      border-color: transparent;\n",
              "      border-right-color: var(--fill-color);\n",
              "      border-bottom-color: var(--fill-color);\n",
              "    }\n",
              "    90% {\n",
              "      border-color: transparent;\n",
              "      border-bottom-color: var(--fill-color);\n",
              "    }\n",
              "  }\n",
              "</style>\n",
              "\n",
              "  <script>\n",
              "    async function quickchart(key) {\n",
              "      const quickchartButtonEl =\n",
              "        document.querySelector('#' + key + ' button');\n",
              "      quickchartButtonEl.disabled = true;  // To prevent multiple clicks.\n",
              "      quickchartButtonEl.classList.add('colab-df-spinner');\n",
              "      try {\n",
              "        const charts = await google.colab.kernel.invokeFunction(\n",
              "            'suggestCharts', [key], {});\n",
              "      } catch (error) {\n",
              "        console.error('Error during call to suggestCharts:', error);\n",
              "      }\n",
              "      quickchartButtonEl.classList.remove('colab-df-spinner');\n",
              "      quickchartButtonEl.classList.add('colab-df-quickchart-complete');\n",
              "    }\n",
              "    (() => {\n",
              "      let quickchartButtonEl =\n",
              "        document.querySelector('#df-b27a1a7a-dd76-4f05-a90d-59d90aadf226 button');\n",
              "      quickchartButtonEl.style.display =\n",
              "        google.colab.kernel.accessAllowed ? 'block' : 'none';\n",
              "    })();\n",
              "  </script>\n",
              "</div>\n",
              "\n",
              "    </div>\n",
              "  </div>\n"
            ],
            "application/vnd.google.colaboratory.intrinsic+json": {
              "type": "dataframe"
            }
          },
          "metadata": {},
          "execution_count": 24
        }
      ]
    },
    {
      "cell_type": "code",
      "source": [
        "categorical.isnull().sum() / categorical.shape[0]"
      ],
      "metadata": {
        "colab": {
          "base_uri": "https://localhost:8080/"
        },
        "id": "hBjxhS76W4MU",
        "outputId": "7b1b9201-cdaa-4617-9605-5e4be6ead82e"
      },
      "execution_count": null,
      "outputs": [
        {
          "output_type": "execute_result",
          "data": {
            "text/plain": [
              "RATE_owner_1                          0.017567\n",
              "RATE_owner_2                          0.879636\n",
              "RATE_owner_3                          0.995446\n",
              "RATE_ID_FOR_years_in_business         0.007807\n",
              "RATE_ID_FOR_fsr                       0.990241\n",
              "location                              0.006506\n",
              "RATE_ID_FOR_location                  0.041640\n",
              "funded_last_30                        0.000000\n",
              "RATE_ID_FOR_funded_last_30            0.996747\n",
              "RATE_ID_FOR_judgement_lien_percent    0.000000\n",
              "RATE_ID_FOR_judgement_lien_amount     0.000000\n",
              "RATE_ID_FOR_num_negative_days         0.001301\n",
              "RATE_ID_FOR_num_deposits              0.000000\n",
              "RATE_ID_FOR_monthly_gross             0.000000\n",
              "RATE_ID_FOR_average_ledger            0.000000\n",
              "RATE_ID_FOR_fc_margin                 0.000000\n",
              "RATE_ID_FOR_tax_lien_amount           0.000000\n",
              "RATE_ID_FOR_tax_lien_percent          0.000000\n",
              "RATE_ID_FOR_tax_lien_count            0.005856\n",
              "RATE_ID_FOR_current_position          0.007807\n",
              "INPUT_VALUE_ID_FOR_industry_type      0.015615\n",
              "RATE_owner_4                          0.042290\n",
              "dtype: float64"
            ]
          },
          "metadata": {},
          "execution_count": 25
        }
      ]
    },
    {
      "cell_type": "code",
      "source": [
        "imputer = SimpleImputer(missing_values=np.nan, strategy = 'most_frequent')\n",
        "categorical = pd.DataFrame(imputer.fit_transform(categorical), columns=categorical.columns)\n",
        "test_categorical = pd.DataFrame(imputer.transform(test_categorical), columns=test_categorical.columns)\n",
        "categorical.isnull().sum()"
      ],
      "metadata": {
        "colab": {
          "base_uri": "https://localhost:8080/"
        },
        "id": "d8sEl4KVXSea",
        "outputId": "347ce797-7eb8-45ba-e3cf-c83d0dacfd5b"
      },
      "execution_count": null,
      "outputs": [
        {
          "output_type": "execute_result",
          "data": {
            "text/plain": [
              "RATE_owner_1                          0\n",
              "RATE_owner_2                          0\n",
              "RATE_owner_3                          0\n",
              "RATE_ID_FOR_years_in_business         0\n",
              "RATE_ID_FOR_fsr                       0\n",
              "location                              0\n",
              "RATE_ID_FOR_location                  0\n",
              "funded_last_30                        0\n",
              "RATE_ID_FOR_funded_last_30            0\n",
              "RATE_ID_FOR_judgement_lien_percent    0\n",
              "RATE_ID_FOR_judgement_lien_amount     0\n",
              "RATE_ID_FOR_num_negative_days         0\n",
              "RATE_ID_FOR_num_deposits              0\n",
              "RATE_ID_FOR_monthly_gross             0\n",
              "RATE_ID_FOR_average_ledger            0\n",
              "RATE_ID_FOR_fc_margin                 0\n",
              "RATE_ID_FOR_tax_lien_amount           0\n",
              "RATE_ID_FOR_tax_lien_percent          0\n",
              "RATE_ID_FOR_tax_lien_count            0\n",
              "RATE_ID_FOR_current_position          0\n",
              "INPUT_VALUE_ID_FOR_industry_type      0\n",
              "RATE_owner_4                          0\n",
              "dtype: int64"
            ]
          },
          "metadata": {},
          "execution_count": 26
        }
      ]
    },
    {
      "cell_type": "code",
      "source": [
        "labelencoder =LabelEncoder()\n",
        "for column in categorical.columns:\n",
        "  categorical[column] =labelencoder.fit_transform(categorical[column])\n",
        "  test_categorical[column] = labelencoder.transform(test_categorical[column])\n",
        "target = labelencoder.fit_transform(target)"
      ],
      "metadata": {
        "id": "PeYx6yUjVcKC"
      },
      "execution_count": null,
      "outputs": []
    },
    {
      "cell_type": "code",
      "source": [
        "numerical.isnull().sum() / numerical.shape[0]"
      ],
      "metadata": {
        "id": "oVjwfwJ7wn-Z",
        "colab": {
          "base_uri": "https://localhost:8080/"
        },
        "outputId": "dafe99cf-fa7c-4b72-8887-c88f6287624c"
      },
      "execution_count": null,
      "outputs": [
        {
          "output_type": "execute_result",
          "data": {
            "text/plain": [
              "owner_1_score                               0.013663\n",
              "CAP_AMOUNT_owner_1                          0.020169\n",
              "PERCENT_OWN_owner_1                         0.008458\n",
              "owner_2_score                               0.879636\n",
              "CAP_AMOUNT_owner_2                          0.886792\n",
              "PERCENT_OWN_owner_2                         0.854262\n",
              "owner_3_score                               0.995446\n",
              "CAP_AMOUNT_owner_3                          0.995446\n",
              "PERCENT_OWN_owner_3                         0.978530\n",
              "years_in_business                           0.007807\n",
              "fsr                                         0.271308\n",
              "judgement_lien_percent                      0.000000\n",
              "INPUT_VALUE_ID_FOR_judgement_lien_amount    0.000000\n",
              "INPUT_VALUE_ID_FOR_judgement_lien_time      1.000000\n",
              "RATE_ID_FOR_judgement_lien_time             1.000000\n",
              "INPUT_VALUE_ID_FOR_num_negative_days        0.000000\n",
              "INPUT_VALUE_ID_FOR_num_deposits             0.000000\n",
              "INPUT_VALUE_ID_FOR_monthly_gross            0.000000\n",
              "INPUT_VALUE_ID_FOR_average_ledger           0.000000\n",
              "INPUT_VALUE_ID_FOR_fc_margin                0.000000\n",
              "INPUT_VALUE_ID_FOR_tax_lien_amount          0.000000\n",
              "INPUT_VALUE_ID_FOR_tax_lien_percent         0.000000\n",
              "INPUT_VALUE_ID_FOR_tax_lien_count           0.005856\n",
              "INPUT_VALUE_ID_FOR_current_position         0.007807\n",
              "INPUT_VALUE_ID_FOR_avg_net_deposits         0.003904\n",
              "RATE_ID_FOR_avg_net_deposits                1.000000\n",
              "RATE_ID_FOR_industry_type                   1.000000\n",
              "INPUT_VALUE_owner_4                         0.017567\n",
              "CAP_AMOUNT_owner_4                          0.052049\n",
              "PERCENT_OWN_owner_4                         0.029928\n",
              "deal_application_thread_id                  0.000000\n",
              "dtype: float64"
            ]
          },
          "metadata": {},
          "execution_count": 28
        }
      ]
    },
    {
      "cell_type": "code",
      "source": [
        "drop2 = ['INPUT_VALUE_ID_FOR_judgement_lien_time', 'RATE_ID_FOR_judgement_lien_time', 'RATE_ID_FOR_avg_net_deposits', 'RATE_ID_FOR_industry_type']\n",
        "numerical =numerical.drop(drop2, axis=1)\n",
        "test_numerical = test_numerical.drop(drop2, axis=1)"
      ],
      "metadata": {
        "id": "omAjz6xXslZC"
      },
      "execution_count": null,
      "outputs": []
    },
    {
      "cell_type": "code",
      "source": [
        "imputer =SimpleImputer(missing_values=np.nan, strategy= 'mean')\n",
        "numerical = pd.DataFrame(imputer.fit_transform(numerical), columns = numerical.columns)\n",
        "test_numerical = pd.DataFrame(imputer.transform(test_numerical), columns = test_numerical.columns)\n",
        "numerical.isnull().sum() / numerical.shape[0]"
      ],
      "metadata": {
        "id": "jt8-LQGy8ipz",
        "colab": {
          "base_uri": "https://localhost:8080/"
        },
        "outputId": "4d724ede-0f5d-4324-e18f-c3cf8f5cb56a"
      },
      "execution_count": null,
      "outputs": [
        {
          "output_type": "execute_result",
          "data": {
            "text/plain": [
              "owner_1_score                               0.0\n",
              "CAP_AMOUNT_owner_1                          0.0\n",
              "PERCENT_OWN_owner_1                         0.0\n",
              "owner_2_score                               0.0\n",
              "CAP_AMOUNT_owner_2                          0.0\n",
              "PERCENT_OWN_owner_2                         0.0\n",
              "owner_3_score                               0.0\n",
              "CAP_AMOUNT_owner_3                          0.0\n",
              "PERCENT_OWN_owner_3                         0.0\n",
              "years_in_business                           0.0\n",
              "fsr                                         0.0\n",
              "judgement_lien_percent                      0.0\n",
              "INPUT_VALUE_ID_FOR_judgement_lien_amount    0.0\n",
              "INPUT_VALUE_ID_FOR_num_negative_days        0.0\n",
              "INPUT_VALUE_ID_FOR_num_deposits             0.0\n",
              "INPUT_VALUE_ID_FOR_monthly_gross            0.0\n",
              "INPUT_VALUE_ID_FOR_average_ledger           0.0\n",
              "INPUT_VALUE_ID_FOR_fc_margin                0.0\n",
              "INPUT_VALUE_ID_FOR_tax_lien_amount          0.0\n",
              "INPUT_VALUE_ID_FOR_tax_lien_percent         0.0\n",
              "INPUT_VALUE_ID_FOR_tax_lien_count           0.0\n",
              "INPUT_VALUE_ID_FOR_current_position         0.0\n",
              "INPUT_VALUE_ID_FOR_avg_net_deposits         0.0\n",
              "INPUT_VALUE_owner_4                         0.0\n",
              "CAP_AMOUNT_owner_4                          0.0\n",
              "PERCENT_OWN_owner_4                         0.0\n",
              "deal_application_thread_id                  0.0\n",
              "dtype: float64"
            ]
          },
          "metadata": {},
          "execution_count": 30
        }
      ]
    },
    {
      "cell_type": "code",
      "source": [
        "features=pd.concat([numerical, categorical], axis=1)\n",
        "test=pd.concat([test_numerical, test_categorical], axis=1)"
      ],
      "metadata": {
        "id": "A8057d7GBg1H"
      },
      "execution_count": null,
      "outputs": []
    },
    {
      "cell_type": "code",
      "source": [
        "# #Removing Duplicate Rows\n",
        "# duplicate_rows_indices = features[features.duplicated()].index\n",
        "# features.drop(index = duplicate_rows_indices, inplace=True)\n",
        "# target.drop(index = duplicate_rows_indices, inplace=True)\n"
      ],
      "metadata": {
        "id": "nXniHv-AxNsb"
      },
      "execution_count": null,
      "outputs": []
    },
    {
      "cell_type": "code",
      "source": [
        "x_train, x_val, y_train, y_val = train_test_split(features, target, test_size=0.3, random_state=42)\n",
        "scaler=StandardScaler()\n",
        "x_train_scaled=pd.DataFrame(scaler.fit_transform(x_train), columns=x_train.columns)\n",
        "x_val_scaled = pd.DataFrame(scaler.transform(x_val), columns = x_val.columns)\n",
        "test_scaled=pd.DataFrame(scaler.transform(test), columns = test.columns)\n"
      ],
      "metadata": {
        "id": "cvK0vS5qCtK1"
      },
      "execution_count": null,
      "outputs": []
    },
    {
      "cell_type": "code",
      "source": [
        "#Applying SMOTE to solve class imbalance\n",
        "smote = SMOTE(random_state=42)\n",
        "x_resampled, y_resampled = smote.fit_resample(x_train_scaled, y_train)"
      ],
      "metadata": {
        "id": "ghQTX8qFgfbx"
      },
      "execution_count": null,
      "outputs": []
    },
    {
      "cell_type": "code",
      "source": [
        "#Checking the results of applying SMOTE\n",
        "target_counts = pd.DataFrame(y_resampled).value_counts()\n",
        "\n",
        "# Plot the pie chart\n",
        "plt.figure(figsize=(8, 8))\n",
        "plt.pie(target_counts, labels=target_counts.index, autopct='%1.1f%%', startangle=140)\n",
        "plt.title('Distribution of Target Variable')\n",
        "plt.show()"
      ],
      "metadata": {
        "colab": {
          "base_uri": "https://localhost:8080/",
          "height": 675
        },
        "id": "JXf2iH3MhF-x",
        "outputId": "1fffd0b4-2718-4b00-9a00-f9f872f52f13"
      },
      "execution_count": null,
      "outputs": [
        {
          "output_type": "display_data",
          "data": {
            "text/plain": [
              "<Figure size 800x800 with 1 Axes>"
            ],
            "image/png": "[encoded data removed]"
          },
          "metadata": {}
        }
      ]
    },
    {
      "cell_type": "code",
      "source": [
        "#Recursive Feature Elimination\n",
        "#Determine the model that the rfe will use to estimate the best number of features\n",
        "estimator = DecisionTreeClassifier()\n",
        "\n",
        "selector = RFECV(estimator, cv=5)\n",
        "selector = selector.fit(x_resampled, y_resampled)\n",
        "x_resampled = pd.DataFrame(x_resampled, columns=x_resampled.columns)\n",
        "\n",
        "print(f'Optimal number of features = {selector.n_features_}')\n",
        "\n",
        "best_features = selector.support_\n",
        "x_selected = x_resampled.columns[best_features]\n",
        "print(f'Best Features: {x_selected}')\n",
        "\n",
        "x_rfe_train = x_resampled.loc[:, selector.support_]\n",
        "x_rfe_val = x_val_scaled.loc[:, selector.support_]\n",
        "test_rfe = test_scaled.loc[:, selector.support_]"
      ],
      "metadata": {
        "id": "Usdmtzaw8M_4",
        "colab": {
          "base_uri": "https://localhost:8080/"
        },
        "outputId": "099c6f2e-d00a-4aa7-da14-d90aad771c2e"
      },
      "execution_count": null,
      "outputs": [
        {
          "output_type": "stream",
          "name": "stdout",
          "text": [
            "Optimal number of features = 4\n",
            "Best Features: Index(['owner_1_score', 'years_in_business', 'fsr',\n",
            "       'deal_application_thread_id'],\n",
            "      dtype='object')\n"
          ]
        }
      ]
    },
    {
      "cell_type": "code",
      "source": [
        "def predict(model, param_grid):\n",
        "  gridsearch = GridSearchCV(model, param_grid, cv = 5, scoring = 'accuracy')\n",
        "  gridsearch.fit(x_rfe_train, y_resampled)\n",
        "  y_val_pred = gridsearch.predict(x_rfe_val)\n",
        "  accuracy = accuracy_score(y_val, y_val_pred)\n",
        "  precision = precision_score(y_val, y_val_pred, average = 'macro')\n",
        "  recall = recall_score(y_val, y_val_pred, average = 'macro')\n",
        "  f1score = f1_score(y_val, y_val_pred, average = 'macro')\n",
        "  print(f' Performance of {model}\\n\\n Accuracy: {accuracy}\\n Precision: {precision}\\n Recall: {recall}\\n F1-score: {f1score}')\n",
        "  print('---------------------------------------------------------------------------------------------------------------------')\n"
      ],
      "metadata": {
        "id": "4wPeVT4Vrs8U"
      },
      "execution_count": null,
      "outputs": []
    },
    {
      "cell_type": "code",
      "source": [
        "#Decision Tree\n",
        "tree = DecisionTreeClassifier(criterion = 'entropy')\n",
        "\n",
        "param_grid_dt = {\n",
        "    'max_depth' : [10, 20, 30, 40, 50],\n",
        "    'min_samples_split' : [2, 5, 10, 20],\n",
        "    'min_samples_leaf' : [1, 2, 5, 10]\n",
        "}\n",
        "\n",
        "gridsearch1 = GridSearchCV(estimator = tree, param_grid=param_grid1, cv=5, scoring = 'accuracy')\n",
        "\n",
        "\n",
        "\n",
        "gridsearch1.fit(x_rfe_train, y_resampled)\n",
        "y_val_pred = gridsearch1.predict(x_rfe_val)\n",
        "accuracy = accuracy_score(y_val, y_val_pred)\n",
        "\n",
        "print(f'Accuracy: {accuracy}')\n",
        "print(f'Best Parameters: {gridsearch1.best_params_}')\n",
        "print(f'Best Score: {gridsearch1.best_score_}')"
      ],
      "metadata": {
        "colab": {
          "base_uri": "https://localhost:8080/"
        },
        "id": "TLdplUKIwjAb",
        "outputId": "d0651d89-df45-4dcf-a57a-eb659748b0d4"
      },
      "execution_count": null,
      "outputs": [
        {
          "output_type": "stream",
          "name": "stdout",
          "text": [
            "Accuracy: 0.9415584415584416\n",
            "Best Parameters: {'max_depth': 40, 'min_samples_leaf': 1, 'min_samples_split': 2}\n",
            "Best Score: 0.8842857142857143\n"
          ]
        }
      ]
    },
    {
      "cell_type": "code",
      "source": [
        "predict(tree, param_grid1)"
      ],
      "metadata": {
        "colab": {
          "base_uri": "https://localhost:8080/"
        },
        "id": "oxlmzbl7utfW",
        "outputId": "9513dc52-63a1-402a-d850-66676f956584"
      },
      "execution_count": null,
      "outputs": [
        {
          "output_type": "stream",
          "name": "stdout",
          "text": [
            " Performance of DecisionTreeClassifier(criterion='entropy')\n",
            "\n",
            " Accuracy: 0.9393939393939394\n",
            " Precision: 0.937575857883703\n",
            " Recall: 0.9385051341573081\n",
            " F1-score: 0.9374908283707695\n",
            "---------------------------------------------------------------------------------------------------------------------\n"
          ]
        }
      ]
    },
    {
      "cell_type": "code",
      "source": [
        "knn = KNeighborsClassifier()\n",
        "\n",
        "param_grid = {\n",
        "    'n_neighbors' : [3, 5, 7, 9],\n",
        "    'weights' : ['uniform', 'distance'],\n",
        "    'metric' : ['euclidean', 'manhattan', 'minkowski']\n",
        "}\n",
        "\n",
        "gridsearch3 = GridSearchCV(estimator = knn, param_grid = param_grid, cv=5, scoring='accuracy')\n",
        "\n",
        "gridsearch3.fit(x_rfe_train, y_resampled)\n",
        "\n",
        "y_pred_val = gridsearch3.predict(x_rfe_val)\n",
        "accuracy = accuracy_score(y_val, y_pred_val)\n",
        "precision = precision_score(y_val, y_pred_val, average='macro')\n",
        "recall = recall_score(y_val, y_pred_val, average = 'macro')\n",
        "f1score = f1_score(y_val, y_pred_val, average = 'macro')\n",
        "\n",
        "cm = confusion_matrix(y_val, y_pred_val)\n",
        "\n",
        "print(f'Accuracy: {accuracy}')\n",
        "print(f'Precision: {precision}')\n",
        "print(f'Recall: {recall}')\n",
        "print(f'F1-Score: {f1score} \\n')\n",
        "\n",
        "print(f'Best Parameters: {gridsearch3.best_params_}')\n",
        "print(f'Best Score: {gridsearch3.best_score_}')"
      ],
      "metadata": {
        "colab": {
          "base_uri": "https://localhost:8080/"
        },
        "id": "FsEE7XO3dpgY",
        "outputId": "9c7cc79c-0e9b-4961-9dec-7b6469ccf8a6"
      },
      "execution_count": null,
      "outputs": [
        {
          "output_type": "stream",
          "name": "stdout",
          "text": [
            "Accuracy: 0.935064935064935\n",
            "Precision: 0.9232512157991882\n",
            "Recall: 0.9387539996235648\n",
            "F1-Score: 0.9301648602277122 \n",
            "\n",
            "Best Parameters: {'metric': 'manhattan', 'n_neighbors': 5, 'weights': 'distance'}\n",
            "Best Score: 0.8766666666666667\n"
          ]
        }
      ]
    },
    {
      "cell_type": "code",
      "source": [
        "#SVM\n",
        "svm = SVC(kernel = 'poly', degree = 3, coef0 = 1)\n",
        "\n",
        "param_grid = {\n",
        "    'C' : [0.1, 1, 10, 100],\n",
        "    'gamma' : ['scale', 'auto', 0.001, 0.01, 0.1, 1]\n",
        "}\n",
        "\n",
        "gridsearch2 = GridSearchCV(estimator = svm, param_grid=param_grid, cv = 5, scoring = 'accuracy')\n",
        "gridsearch2.fit(x_rfe_train, y_resampled)\n",
        "y_pred_val = gridsearch2.predict(x_rfe_val)\n",
        "\n",
        "accuracy = accuracy_score(y_val, y_pred_val)\n",
        "\n",
        "print(f'Accuracy: {accuracy}')\n",
        "print(f'Best Parameters: {gridsearch2.best_params_}')\n",
        "# print(f'Best Score: {gridsearch2.best_score_}')\n",
        "\n"
      ],
      "metadata": {
        "id": "udQ_dL-a0Lo1"
      },
      "execution_count": null,
      "outputs": []
    },
    {
      "cell_type": "code",
      "source": [
        "y_test_pred = gridsearch1.predict(test_rfe)\n",
        "y_test_pred = labelencoder.inverse_transform(y_test_pred)\n",
        "id = id.rename('id')\n",
        "predictions =pd.concat([id,pd.DataFrame(y_test_pred)], axis=1, ignore_index=False)\n",
        "predictions.to_csv('predictions.csv', index=False)\n",
        "files.download('predictions.csv')\n",
        "y_test_pred=pd.DataFrame(y_test_pred)\n",
        "y_test_pred.value_counts()"
      ],
      "metadata": {
        "colab": {
          "base_uri": "https://localhost:8080/",
          "height": 104
        },
        "id": "Air0Bjkt8h8y",
        "outputId": "046ddcbc-72aa-4e40-bed1-3b476f463e04"
      },
      "execution_count": null,
      "outputs": [
        {
          "output_type": "display_data",
          "data": {
            "text/plain": [
              "<IPython.core.display.Javascript object>"
            ],
            "application/javascript": [
              "\n",
              "    async function download(id, filename, size) {\n",
              "      if (!google.colab.kernel.accessAllowed) {\n",
              "        return;\n",
              "      }\n",
              "      const div = document.createElement('div');\n",
              "      const label = document.createElement('label');\n",
              "      label.textContent = `Downloading \"${filename}\": `;\n",
              "      div.appendChild(label);\n",
              "      const progress = document.createElement('progress');\n",
              "      progress.max = size;\n",
              "      div.appendChild(progress);\n",
              "      document.body.appendChild(div);\n",
              "\n",
              "      const buffers = [];\n",
              "      let downloaded = 0;\n",
              "\n",
              "      const channel = await google.colab.kernel.comms.open(id);\n",
              "      // Send a message to notify the kernel that we're ready.\n",
              "      channel.send({})\n",
              "\n",
              "      for await (const message of channel.messages) {\n",
              "        // Send a message to notify the kernel that we're ready.\n",
              "        channel.send({})\n",
              "        if (message.buffers) {\n",
              "          for (const buffer of message.buffers) {\n",
              "            buffers.push(buffer);\n",
              "            downloaded += buffer.byteLength;\n",
              "            progress.value = downloaded;\n",
              "          }\n",
              "        }\n",
              "      }\n",
              "      const blob = new Blob(buffers, {type: 'application/binary'});\n",
              "      const a = document.createElement('a');\n",
              "      a.href = window.URL.createObjectURL(blob);\n",
              "      a.download = filename;\n",
              "      div.appendChild(a);\n",
              "      a.click();\n",
              "      div.remove();\n",
              "    }\n",
              "  "
            ]
          },
          "metadata": {}
        },
        {
          "output_type": "display_data",
          "data": {
            "text/plain": [
              "<IPython.core.display.Javascript object>"
            ],
            "application/javascript": [
              "download(\"download_0aa4ed7d-9771-4c7b-b52a-6b8cddde788a\", \"predictions.csv\", 4904)"
            ]
          },
          "metadata": {}
        },
        {
          "output_type": "execute_result",
          "data": {
            "text/plain": [
              "Paid in full                  122\n",
              "Default                        91\n",
              "Paid off with renewal          50\n",
              "Paid via discounted payoff     10\n",
              "Name: count, dtype: int64"
            ]
          },
          "metadata": {},
          "execution_count": 24
        }
      ]
    },
    {
      "cell_type": "code",
      "source": [
        "plt.figure(figsize=(10,8))\n",
        "sns.heatmap(cm, annot=True, cmap='Blues', xticklabels=['Paid in full', 'Paid  off with renewal', 'Paid via discounted payoff', 'Default'],\n",
        "            yticklabels=['Paid in full', 'Paid  off with renewal', 'Paid via discounted payoff', 'Default'], linewidths=0.5, cbar=False)\n",
        "plt.xlabel('Predicted')\n",
        "plt.ylabel('Actual')\n",
        "plt.title('Confusion Matrix For KNN')\n",
        "plt.savefig('Confusion Matrix For KNN.png')\n",
        "files.download('Confusion Matrix For KNN.png')\n",
        "plt.show()"
      ],
      "metadata": {
        "colab": {
          "base_uri": "https://localhost:8080/",
          "height": 718
        },
        "id": "HB8K6uqf-Dnf",
        "outputId": "b6e895bc-4ae2-48a4-ce61-b33868079c29"
      },
      "execution_count": null,
      "outputs": [
        {
          "output_type": "display_data",
          "data": {
            "text/plain": [
              "<IPython.core.display.Javascript object>"
            ],
            "application/javascript": [
              "\n",
              "    async function download(id, filename, size) {\n",
              "      if (!google.colab.kernel.accessAllowed) {\n",
              "        return;\n",
              "      }\n",
              "      const div = document.createElement('div');\n",
              "      const label = document.createElement('label');\n",
              "      label.textContent = `Downloading \"${filename}\": `;\n",
              "      div.appendChild(label);\n",
              "      const progress = document.createElement('progress');\n",
              "      progress.max = size;\n",
              "      div.appendChild(progress);\n",
              "      document.body.appendChild(div);\n",
              "\n",
              "      const buffers = [];\n",
              "      let downloaded = 0;\n",
              "\n",
              "      const channel = await google.colab.kernel.comms.open(id);\n",
              "      // Send a message to notify the kernel that we're ready.\n",
              "      channel.send({})\n",
              "\n",
              "      for await (const message of channel.messages) {\n",
              "        // Send a message to notify the kernel that we're ready.\n",
              "        channel.send({})\n",
              "        if (message.buffers) {\n",
              "          for (const buffer of message.buffers) {\n",
              "            buffers.push(buffer);\n",
              "            downloaded += buffer.byteLength;\n",
              "            progress.value = downloaded;\n",
              "          }\n",
              "        }\n",
              "      }\n",
              "      const blob = new Blob(buffers, {type: 'application/binary'});\n",
              "      const a = document.createElement('a');\n",
              "      a.href = window.URL.createObjectURL(blob);\n",
              "      a.download = filename;\n",
              "      div.appendChild(a);\n",
              "      a.click();\n",
              "      div.remove();\n",
              "    }\n",
              "  "
            ]
          },
          "metadata": {}
        },
        {
          "output_type": "display_data",
          "data": {
            "text/plain": [
              "<IPython.core.display.Javascript object>"
            ],
            "application/javascript": [
              "download(\"download_3e084a76-80a4-4f62-af4e-d6a99146884b\", \"Confusion Matrix For KNN.png\", 28496)"
            ]
          },
          "metadata": {}
        },
        {
          "output_type": "display_data",
          "data": {
            "text/plain": [
              "<Figure size 1000x800 with 1 Axes>"
            ],
            "image/png": "[encoded data removed]"
          },
          "metadata": {}
        }
      ]
    },
    {
      "cell_type": "code",
      "source": [
        "mlp = MLPClassifier(random_state = 42)\n",
        "\n",
        "warnings.filterwarnings('ignore')\n",
        "\n",
        "param_grid = {\n",
        "    'solver' : ['adam', 'sgd'],\n",
        "    'activation' : ['relu', 'tanh'],\n",
        "    'alpha' : [0.0001, 0.001, 0.01]\n",
        "}\n",
        "\n",
        "gridsearch4 = GridSearchCV(estimator = mlp, param_grid = param_grid, cv = 5, scoring = 'accuracy')\n",
        "\n",
        "gridsearch4.fit(x_rfe_train, y_resampled)\n",
        "\n",
        "y_pred_val = gridsearch4.predict(x_rfe_val)\n",
        "accuracy = accuracy_score(y_val, y_pred_val)\n",
        "\n",
        "print(f'Accuracy: {accuracy}')\n",
        "print(f'Best Parameters: {gridsearch4.best_params_}')\n",
        "print(f'Best Score: {gridsearch4.best_score_}')\n"
      ],
      "metadata": {
        "colab": {
          "base_uri": "https://localhost:8080/"
        },
        "collapsed": true,
        "id": "e16o7mhH4nOr",
        "outputId": "398d3abc-2f57-4ad7-ed5c-27c62f93ab0c"
      },
      "execution_count": null,
      "outputs": [
        {
          "output_type": "stream",
          "name": "stdout",
          "text": [
            "Accuracy: 0.47186147186147187\n",
            "Best Parameters: {'activation': 'relu', 'alpha': 0.0001, 'solver': 'adam'}\n",
            "Best Score: 0.5633333333333332\n"
          ]
        }
      ]
    },
    {
      "cell_type": "code",
      "source": [
        "logistic = LogisticRegression()\n",
        "\n",
        "param_grid = {\n",
        "    'C' : [0.01, 0.1, 1, 10, 100],\n",
        "    'fit_intercept' : [True, False],\n",
        "    'max_iter' : [100, 200, 300]\n",
        "}\n",
        "\n",
        "gridsearch5 = GridSearchCV(estimator = logistic, param_grid = param_grid, cv=5, scoring = 'accuracy')\n",
        "\n",
        "gridsearch5.fit(x_rfe_train, y_resampled)\n",
        "\n",
        "best_model =gridsearch5.best_estimator_\n",
        "\n",
        "y_pred_val = best_model.predict(x_rfe_val)\n",
        "\n",
        "accuracy = accuracy_score(y_val, y_pred_val)\n",
        "print(f'Accuracy: {accuracy}')\n",
        "print(f'Best Parameters: {gridsearch5.best_params_}')\n",
        "print(f'Best Score: {gridsearch5.best_score_}')"
      ],
      "metadata": {
        "colab": {
          "base_uri": "https://localhost:8080/"
        },
        "id": "WG9S_1VEM0L7",
        "outputId": "feb29532-5a57-4550-dace-e6bf870e70d2"
      },
      "execution_count": null,
      "outputs": [
        {
          "output_type": "stream",
          "name": "stdout",
          "text": [
            "Accuracy: 0.20562770562770563\n",
            "Best Parameters: {'C': 10, 'fit_intercept': True, 'max_iter': 100}\n",
            "Best Score: 0.34523809523809523\n"
          ]
        }
      ]
    }
  ]
}